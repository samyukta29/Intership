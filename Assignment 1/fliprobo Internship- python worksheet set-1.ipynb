{
 "cells": [
  {
   "cell_type": "markdown",
   "metadata": {},
   "source": [
    "Write a python program to find the factorial of a number."
   ]
  },
  {
   "cell_type": "code",
   "execution_count": 2,
   "metadata": {
    "scrolled": false
   },
   "outputs": [
    {
     "name": "stdout",
     "output_type": "stream",
     "text": [
      "Enter a number: 7\n",
      "Factorial of 7 is: 5040\n"
     ]
    }
   ],
   "source": [
    "num = int(input('Enter a number: ' ))\n",
    "\n",
    "factorial=1\n",
    "\n",
    "#To check if the number is negitive,positive or zero\n",
    "if num < 0:\n",
    "    print('Factorial cannot be found for negitive numbers')\n",
    "elif num == 0:\n",
    "    print('Factorial of 0 is 1')\n",
    "else: \n",
    "    for i in range(1,num+1):\n",
    "        factorial = factorial*i\n",
    "    print('Factorial of',num,'is:',factorial) \n",
    "    "
   ]
  },
  {
   "cell_type": "markdown",
   "metadata": {},
   "source": [
    "Write a python program to find whether a number is prime or composite."
   ]
  },
  {
   "cell_type": "code",
   "execution_count": 3,
   "metadata": {},
   "outputs": [
    {
     "name": "stdout",
     "output_type": "stream",
     "text": [
      "Enter a number: 8\n",
      "8 is a composite number\n"
     ]
    }
   ],
   "source": [
    "num = int(input('Enter a number: ' ))\n",
    "#To check if the number is negitive,positive or zero\n",
    "if num < 1:\n",
    "    print('Number needs to be greater than 1')\n",
    "elif num == 1:\n",
    "    print(num, 'is nither prime number nor composite number')\n",
    "else:\n",
    "    for i in range(2,(num//2)+1):\n",
    "        if(num % i)==0:\n",
    "            print(num, 'is a composite number')\n",
    "            break\n",
    "    else:\n",
    "        print(num, 'is a prime number')\n",
    "\n"
   ]
  },
  {
   "cell_type": "markdown",
   "metadata": {},
   "source": [
    "Write a python program to check whether a given string is palindrome or not."
   ]
  },
  {
   "cell_type": "code",
   "execution_count": 5,
   "metadata": {
    "scrolled": true
   },
   "outputs": [
    {
     "name": "stdout",
     "output_type": "stream",
     "text": [
      "Enter a word:madam\n",
      "madam : is a palindrome.\n"
     ]
    }
   ],
   "source": [
    "a = input('Enter a word:' )\n",
    "b = a[-1::-1] \n",
    "if(a == b):\n",
    "    print(a, ': is a palindrome.')\n",
    "else:\n",
    "    print(a, ': not a palindrome.')"
   ]
  },
  {
   "cell_type": "markdown",
   "metadata": {},
   "source": [
    "Write a Python program to get the third side of right-angled triangle from two given sides."
   ]
  },
  {
   "cell_type": "code",
   "execution_count": 13,
   "metadata": {},
   "outputs": [
    {
     "name": "stdout",
     "output_type": "stream",
     "text": [
      "enter the base of the right angled triangle 5\n",
      "enter the perpendicular of the right angled triangle 4\n",
      "the length of hypotenuse is  6.4031242374328485\n"
     ]
    }
   ],
   "source": [
    "import math\n",
    "a=int(input(\"enter the base of the right angled triangle \"))\n",
    "b=int(input(\"enter the perpendicular of the right angled triangle \"))\n",
    "print(\"the length of hypotenuse is \",math.sqrt(a**2+b**2))"
   ]
  },
  {
   "cell_type": "markdown",
   "metadata": {},
   "source": [
    "Write a python program to print the frequency of each of the characters present in a given string"
   ]
  },
  {
   "cell_type": "code",
   "execution_count": 8,
   "metadata": {},
   "outputs": [
    {
     "name": "stdout",
     "output_type": "stream",
     "text": [
      "enter a word or sentence: success\n",
      "please enter the character to find it's frequency: c\n",
      "The frequency of the c in the string is:  2\n"
     ]
    }
   ],
   "source": [
    "a = input('enter a word or sentence: ')\n",
    "char = input(\"please enter the character to find it's frequency: \")\n",
    "\n",
    "count = 0\n",
    "for i in range(len(a)):\n",
    "    if(a[i] == char):\n",
    "        count = count + 1\n",
    "print('The frequency of the',char,'in the string is: ',count)\n"
   ]
  },
  {
   "cell_type": "code",
   "execution_count": null,
   "metadata": {},
   "outputs": [],
   "source": []
  }
 ],
 "metadata": {
  "kernelspec": {
   "display_name": "Python 3",
   "language": "python",
   "name": "python3"
  },
  "language_info": {
   "codemirror_mode": {
    "name": "ipython",
    "version": 3
   },
   "file_extension": ".py",
   "mimetype": "text/x-python",
   "name": "python",
   "nbconvert_exporter": "python",
   "pygments_lexer": "ipython3",
   "version": "3.8.5"
  }
 },
 "nbformat": 4,
 "nbformat_minor": 4
}
